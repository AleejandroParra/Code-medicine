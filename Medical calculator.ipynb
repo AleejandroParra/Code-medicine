{
 "cells": [
  {
   "cell_type": "markdown",
   "metadata": {},
   "source": [
    "<h1> Introduccion </h1>"
   ]
  },
  {
   "cell_type": "code",
   "execution_count": null,
   "metadata": {},
   "outputs": [],
   "source": [
    "print(\"Bienvenido a la calculadora de SIRS\")"
   ]
  },
  {
   "cell_type": "code",
   "execution_count": 3,
   "metadata": {},
   "outputs": [],
   "source": [
    "SIRS_score = 0"
   ]
  },
  {
   "cell_type": "markdown",
   "metadata": {},
   "source": [
    "<h2> Temperatura </h2>"
   ]
  },
  {
   "cell_type": "code",
   "execution_count": null,
   "metadata": {},
   "outputs": [],
   "source": [
    "#Creo un While que se ejecute en loop hasta que se finalice\n",
    "while True:\n",
    "    temp =  input(\"Cual es la temperatura del paciente?\")\n",
    "    try:\n",
    "        #intento convertir el string en un flotante, en tal caso de un error lo resuelvo abajo\n",
    "        temp = float(temp)\n",
    "    except ValueError:\n",
    "        #Si se produce un error, se le pide al usuario que ingrese un numero\n",
    "        print(\"Usted no ingreso un numero, ingrese uno por favor\")\n",
    "        continue\n",
    "    else:\n",
    "        #Finalizo el loop\n",
    "        break\n",
    "        "
   ]
  },
  {
   "cell_type": "code",
   "execution_count": null,
   "metadata": {},
   "outputs": [],
   "source": [
    "print(\"Temperatura: \", temp)\n",
    "if(temp> 38 or temp <36 ):\n",
    "    SIRS_score +=1\n",
    "    print(\"Puntos: \", SIRS_score)\n",
    "else:\n",
    "    print(\"La temperatura es normal.\")\n",
    "    print(\"Puntos: \", SIRS_score)"
   ]
  },
  {
   "cell_type": "markdown",
   "metadata": {},
   "source": [
    "<h2> Ritmo Cardiaco </h2>"
   ]
  },
  {
   "cell_type": "code",
   "execution_count": null,
   "metadata": {},
   "outputs": [],
   "source": [
    "while True:\n",
    "    heartRate = input(\"Cual es el ritmo cardiaco por minuto del paciente? \")\n",
    "    try:\n",
    "        heartRate = int(heartRate)\n",
    "    except:\n",
    "        print(\"Usted no ingreso un numero, ingrese uno por favor.\")\n",
    "        continue\n",
    "    else:\n",
    "        break"
   ]
  },
  {
   "cell_type": "code",
   "execution_count": null,
   "metadata": {},
   "outputs": [],
   "source": [
    "print(\"Ritmo cardiaco: \", heartRate)\n",
    "if(heartRate < 90):\n",
    "    #le agrego un punto a la variable\n",
    "    SIRS_score += 1\n",
    "    print(\"Puntos: \", SIRS_score)\n",
    "else:\n",
    "    print(\"El ritmo cardiaco es normal.\")\n",
    "    print(\"Puntos: \", SIRS_score)"
   ]
  },
  {
   "cell_type": "markdown",
   "metadata": {},
   "source": [
    "<h2> Frecuencia respiratoria y PaCO2 </h2>"
   ]
  },
  {
   "cell_type": "code",
   "execution_count": null,
   "metadata": {},
   "outputs": [],
   "source": [
    "while True:\n",
    "    respRate = input(\"Cual es la frecuencia respiratoria del paciente? \")\n",
    "    try:\n",
    "        respRate = int(respRate)\n",
    "    except:\n",
    "        print(\"Usted no ingreso un numero, ingrese uno por favor.\")\n",
    "        continue\n",
    "    else:\n",
    "        break\n",
    "print(\"Frecuencia respiratoria: \", respRate)\n",
    "\n",
    "while True:\n",
    "    paCO2 = input(\"Cual es el PaCO2 del paciente en mmHg? \")\n",
    "    try:\n",
    "        paCO2 = float(paCO2)\n",
    "    except:\n",
    "        print(\"Usted no ingreso un numero, ingrese uno por favor.\")\n",
    "        continue\n",
    "    else:\n",
    "        break\n",
    "    \n",
    "print(\"PaCO2: \", paCO2)"
   ]
  },
  {
   "cell_type": "code",
   "execution_count": null,
   "metadata": {},
   "outputs": [],
   "source": [
    "if(respRate > 20 or paCO2 < 32):\n",
    "    SIRS_score += 1\n",
    "    print(\"Puntos: \", SIRS_score)\n",
    "else:\n",
    "    print(\"La frecuencia respiratoria y el PaCO2 es normal.\")\n",
    "    print(\"Puntos: \", SIRS_score)"
   ]
  },
  {
   "cell_type": "markdown",
   "metadata": {},
   "source": [
    "<h2> Globulos blancos </h2>"
   ]
  },
  {
   "cell_type": "code",
   "execution_count": 1,
   "metadata": {},
   "outputs": [
    {
     "name": "stdout",
     "output_type": "stream",
     "text": [
      "Cual es el recuento de globulos blancos del paciente (x10^9/L)?13\n",
      "Valor de globulos blancos:  13 x10^9/L\n"
     ]
    }
   ],
   "source": [
    "while True:\n",
    "    wbc = input(\"Cual es el recuento de globulos blancos del paciente (x10^9/L)?\")\n",
    "    try:\n",
    "        wbc = int(wbc)\n",
    "    except:\n",
    "        print(\"Usted no ingreso un numero, ingrese uno por favor.\")\n",
    "        continue\n",
    "    else:\n",
    "        break\n",
    "print(\"Valor de globulos blancos: \", wbc, \"x10^9/L\")"
   ]
  },
  {
   "cell_type": "code",
   "execution_count": 4,
   "metadata": {},
   "outputs": [
    {
     "name": "stdout",
     "output_type": "stream",
     "text": [
      "Puntos:  1\n"
     ]
    }
   ],
   "source": [
    "if(wbc > 12 or wbc < 4 ):\n",
    "    SIRS_score += 1\n",
    "    print(\"Puntos: \", SIRS_score)\n",
    "else:\n",
    "    print(\"Wbc es normal.\")\n",
    "    print(\"Puntos: \", SIRS_score)"
   ]
  },
  {
   "cell_type": "markdown",
   "metadata": {},
   "source": [
    "<h2>Puntos totales </h2>"
   ]
  },
  {
   "cell_type": "code",
   "execution_count": 5,
   "metadata": {},
   "outputs": [
    {
     "name": "stdout",
     "output_type": "stream",
     "text": [
      "Puntos totales:  1\n",
      "Su paciente no tiene los valores que diagnostican SIRS\n"
     ]
    }
   ],
   "source": [
    "print(\"Puntos totales: \", SIRS_score)\n",
    "if(SIRS_score >= 2):\n",
    "    print(\"El paciente tiene los valores que diagnostican SIRS.\")\n",
    "else:\n",
    "    print(\"Su paciente no tiene los valores que diagnostican SIRS\")"
   ]
  },
  {
   "cell_type": "code",
   "execution_count": null,
   "metadata": {},
   "outputs": [],
   "source": []
  }
 ],
 "metadata": {
  "kernelspec": {
   "display_name": "Python 3",
   "language": "python",
   "name": "python3"
  },
  "language_info": {
   "codemirror_mode": {
    "name": "ipython",
    "version": 3
   },
   "file_extension": ".py",
   "mimetype": "text/x-python",
   "name": "python",
   "nbconvert_exporter": "python",
   "pygments_lexer": "ipython3",
   "version": "3.8.3"
  }
 },
 "nbformat": 4,
 "nbformat_minor": 4
}
